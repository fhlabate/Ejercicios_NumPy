{
 "cells": [
  {
   "cell_type": "code",
   "execution_count": 59,
   "id": "a63952dd-8762-4222-929c-24823c49c39a",
   "metadata": {},
   "outputs": [
    {
     "name": "stdout",
     "output_type": "stream",
     "text": [
      "[[16 87 99 60 45 29  3 50 74 61 73]\n",
      " [79 80 98 41 12 58 97 23 70 90 14]\n",
      " [97 90 29 21  5 22 54 97 22 22  7]\n",
      " [ 1 50 19 18 61 72 33 37 64 29 52]\n",
      " [49 81 84 39 11 42 38 68 95 45 37]\n",
      " [ 1 35 28 84 10 89 47 45 23 73 74]\n",
      " [40 75 95 23 39 30 99 35 61  9 56]\n",
      " [ 1 89 82 52 34  2 24 69 72 86 29]\n",
      " [59 78 91 85  5 52 23 17 31 86 52]\n",
      " [38 83 22 60  3 80 28 44 66 88 20]\n",
      " [44 73 83 78 61 26 61 15 88 74 57]]\n"
     ]
    }
   ],
   "source": [
    "#Create an NxN square matrix (table) of random numbers between 0 and 100.\n",
    "\n",
    "import numpy as np\n",
    "from numpy import random\n",
    "\n",
    "arr1=np.zeros((3,4)) #Crea un array de \"0\"\n",
    "arr2=np.ones((2,3,4),dtype=np.int16) #Crea un array de \"1\"\n",
    "arr3=np.arange(0,100,1) #Crea un array con n, n-1, paso. \n",
    "arr4=np.linspace(0,10,10) #Crea un array con valores uniformemente espaciados respecto a su cantidad de muestras.\n",
    "arr5=np.full((3,3),1) #Array constante de un solo valor.\n",
    "arr6=np.eye(2) #Crea arrays idénticos.\n",
    "\n",
    "arr7 = random.randint(100, size=(11, 11)) #Array de 3x3 con números random de 0 a 99\n",
    "print(arr7)\n",
    "\n"
   ]
  },
  {
   "cell_type": "code",
   "execution_count": null,
   "id": "e18b13b6-590d-4dd2-b555-06c4bb2c55a0",
   "metadata": {},
   "outputs": [],
   "source": []
  },
  {
   "cell_type": "code",
   "execution_count": null,
   "id": "6e41b046-698e-466a-8c31-1d01063074df",
   "metadata": {},
   "outputs": [],
   "source": []
  }
 ],
 "metadata": {
  "kernelspec": {
   "display_name": "Python 3 (ipykernel)",
   "language": "python",
   "name": "python3"
  },
  "language_info": {
   "codemirror_mode": {
    "name": "ipython",
    "version": 3
   },
   "file_extension": ".py",
   "mimetype": "text/x-python",
   "name": "python",
   "nbconvert_exporter": "python",
   "pygments_lexer": "ipython3",
   "version": "3.10.9"
  }
 },
 "nbformat": 4,
 "nbformat_minor": 5
}
