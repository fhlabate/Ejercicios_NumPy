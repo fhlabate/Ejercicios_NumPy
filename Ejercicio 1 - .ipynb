{
 "cells": [
  {
   "cell_type": "code",
   "execution_count": 1,
   "id": "fd8dbd7f-c9ac-49b7-b988-f637386b77bf",
   "metadata": {},
   "outputs": [
    {
     "name": "stdout",
     "output_type": "stream",
     "text": [
      "El array creado es el siguiente:  [1 2 3 4 5]\n",
      "La suma de los diferentes valores del array es:  15\n",
      "El valor máximo del array es:  5\n",
      "El valor medio del array es:  3.0\n"
     ]
    }
   ],
   "source": [
    "#Create a one-dimensional numeric Array, perform calculation operations on it. \n",
    "#Specifically: sum of the different values, Maximum value of an array row, average, etc.\n",
    "\n",
    "import numpy as np\n",
    "\n",
    "arr = np.array([1, 2, 3, 4, 5]) #one-dimensional array\n",
    "\n",
    "print(\"El array creado es el siguiente: \",arr)\n",
    "\n",
    "print(\"La suma de los diferentes valores del array es: \",np.sum(arr))\n",
    "print(\"El valor máximo del array es: \",np.max(arr))\n",
    "print(\"El valor medio del array es: \",np.mean(arr))\n",
    "\n"
   ]
  },
  {
   "cell_type": "code",
   "execution_count": null,
   "id": "3d7e1205-47a9-4af4-a0d0-dc9b0be3bd2d",
   "metadata": {},
   "outputs": [],
   "source": []
  }
 ],
 "metadata": {
  "kernelspec": {
   "display_name": "Python 3 (ipykernel)",
   "language": "python",
   "name": "python3"
  },
  "language_info": {
   "codemirror_mode": {
    "name": "ipython",
    "version": 3
   },
   "file_extension": ".py",
   "mimetype": "text/x-python",
   "name": "python",
   "nbconvert_exporter": "python",
   "pygments_lexer": "ipython3",
   "version": "3.10.9"
  }
 },
 "nbformat": 4,
 "nbformat_minor": 5
}
